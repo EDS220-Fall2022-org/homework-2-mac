{
 "cells": [
  {
   "cell_type": "code",
   "execution_count": 1,
   "metadata": {},
   "outputs": [],
   "source": [
    "import pystac_client\n",
    "import planetary_computer\n",
    "import geopandas\n",
    "import rich.table"
   ]
  },
  {
   "cell_type": "code",
   "execution_count": 2,
   "metadata": {},
   "outputs": [],
   "source": [
    "catalog = pystac_client.Client.open(\n",
    "    \"https://planetarycomputer.microsoft.com/api/stac/v1\", \n",
    "    modifier=planetary_computer.sign_inplace, )"
   ]
  },
  {
   "cell_type": "code",
   "execution_count": 8,
   "metadata": {},
   "outputs": [],
   "source": [
    "# set location, time, and image collection\n",
    "time_range = \"2000-12-01/2020-12-31\"\n",
    "bbox = [-122.2751, 47.5469, -121.9613, 47.7458]\n",
    "\n",
    "search = catalog.search(collections=[\"landsat-c2-l2\"], bbox=bbox, datetime=time_range)\n",
    "items = search.get_all_items()"
   ]
  },
  {
   "cell_type": "code",
   "execution_count": 17,
   "metadata": {},
   "outputs": [
    {
     "data": {
      "text/plain": [
       "0       100.00\n",
       "1        31.00\n",
       "2        25.00\n",
       "3       100.00\n",
       "4        98.73\n",
       "         ...  \n",
       "1690     99.00\n",
       "1691     18.00\n",
       "1692     91.00\n",
       "1693     30.00\n",
       "1694      8.00\n",
       "Name: eo:cloud_cover, Length: 1695, dtype: float64"
      ]
     },
     "execution_count": 17,
     "metadata": {},
     "output_type": "execute_result"
    }
   ],
   "source": [
    "# create geopandas dataframe\n",
    "df = geopandas.GeoDataFrame.from_features(items.to_dict(), crs=\"epsg:4326\")\n",
    "df.head\n",
    "df.columns\n",
    "df['eo:cloud_cover']"
   ]
  },
  {
   "cell_type": "code",
   "execution_count": null,
   "metadata": {},
   "outputs": [],
   "source": []
  }
 ],
 "metadata": {
  "kernelspec": {
   "display_name": "Python 3 (ipykernel)",
   "language": "python",
   "name": "python3"
  },
  "language_info": {
   "codemirror_mode": {
    "name": "ipython",
    "version": 3
   },
   "file_extension": ".py",
   "mimetype": "text/x-python",
   "name": "python",
   "nbconvert_exporter": "python",
   "pygments_lexer": "ipython3",
   "version": "3.10.5"
  },
  "vscode": {
   "interpreter": {
    "hash": "360b6f71120673705bb9498f8c8879a9911c0f2503f0763a5d6b5177682c6671"
   }
  }
 },
 "nbformat": 4,
 "nbformat_minor": 4
}
